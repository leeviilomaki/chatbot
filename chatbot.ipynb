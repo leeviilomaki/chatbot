{
 "cells": [
  {
   "cell_type": "code",
   "execution_count": null,
   "metadata": {},
   "outputs": [
    {
     "name": "stdout",
     "output_type": "stream",
     "text": [
      " This is weatherbot telling you the current weather.\n",
      "Hi!\n"
     ]
    }
   ],
   "source": [
    "print (\" This is weatherbot telling you the current weather.\")\n",
    "\n",
    "a = \"How can i help you?\"\n",
    "b = \"Anything else you need to know?\"\n",
    "c = \"What information do you need?\"\n",
    "d = \"Glad i could help, have an awesome day!\"\n",
    "\n",
    "thingstodo1_list = [\"movies\",\"shopping\"]\n",
    "thingstodo2_list = [\"eating\",\"music\"]\n",
    "\n",
    "print(\"Hi!\")\n",
    "q = input(\"\")\n",
    "if q == \"Hello\" or \"Hi\" :\n",
    "    print(a)\n",
    "    q1 = input(\"\")\n",
    "    if q1 == \"What is the wearther like outside?\" :\n",
    "        print(\"The weather right now is partly cloudy and about 15 celsius.\")\n",
    "    q2 = input(\"\")\n",
    "    if q2 == \"Is there any chance of rain?\" :\n",
    "        print(\"there should be slight rain at 5.\")\n",
    "    q3 = input(\"\")\n",
    "    if q3 == \"okay thank you very much!\" :\n",
    "        print(b)\n",
    "    q6 = input(\"\")\n",
    "    if q6 == \"Yes\" :\n",
    "        print(c)\n",
    "    else :\n",
    "        print(d)\n",
    "    q4 = input(\"\")\n",
    "    if q4 == \"I am meeting my friend in town, what should we do?\" :\n",
    "        print(\"Well there is a lot to do.\")\n",
    "    answer = input(\"What does your friend like?\")\n",
    "    \n",
    "    if answer in thingstodo1_list :\n",
    "        print(\"Well theres is a mall with a movie theater and many shops.\")\n",
    "        \n",
    "    if answer in thingstodo2_list :\n",
    "        print(\"The main district has many good food places and there is even a band playing in the nearby club.\")\n",
    "        \n",
    "    q7 = input(\"\")\n",
    "    if q7 == \"Okay thank you for the info, we will see what we come up with.\" :\n",
    "        print(d)\n",
    "        \n",
    "    "
   ]
  },
  {
   "cell_type": "code",
   "execution_count": null,
   "metadata": {},
   "outputs": [],
   "source": []
  }
 ],
 "metadata": {
  "kernelspec": {
   "display_name": "Python 3",
   "language": "python",
   "name": "python3"
  },
  "language_info": {
   "codemirror_mode": {
    "name": "ipython",
    "version": 3
   },
   "file_extension": ".py",
   "mimetype": "text/x-python",
   "name": "python",
   "nbconvert_exporter": "python",
   "pygments_lexer": "ipython3",
   "version": "3.8.2"
  }
 },
 "nbformat": 4,
 "nbformat_minor": 4
}
